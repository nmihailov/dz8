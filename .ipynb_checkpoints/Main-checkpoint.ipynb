{
 "cells": [
  {
   "cell_type": "code",
   "execution_count": null,
   "metadata": {},
   "outputs": [
    {
     "name": "stdout",
     "output_type": "stream",
     "text": [
      "C:\\Users\\Nikita Mikhailov\\dz8\\Migrations\n",
      "Введите искомое слово:user\n",
      "000_1-28_Create_user_grant_rights_A350.sql\n",
      "000_1-28_Create_user_grant_rights_A380.sql\n",
      "000_1-28_Create_user_grant_rights_A400M.sql\n",
      "000_1-30_Create_user_grant_rights_A350.sql\n",
      "000_1-30_Create_user_grant_rights_A380.sql\n",
      "000_1-30_Create_user_grant_rights_A400M.sql\n",
      "000_1.27_Create_user_grant_rights_A350.sql\n",
      "000_1.27_Create_user_grant_rights_A380.sql\n",
      "000_1.27_Create_user_grant_rights_A400M.sql\n",
      "000_1.28_Create_user_grant_rights_A350.sql\n",
      "000_1.28_Create_user_grant_rights_A380.sql\n",
      "000_1.28_Create_user_grant_rights_A400M.sql\n",
      "000_1.29_Create_user_grant_rights_A350.sql\n",
      "000_1.29_Create_user_grant_rights_A380.sql\n",
      "000_1.29_Create_user_grant_rights_A400M.sql\n",
      "00_1.20_Create_user_grant_rights_A350.sql\n",
      "00_1.20_Create_user_grant_rights_A380.sql\n",
      "00_1.20_Create_user_grant_rights_A400M.sql\n",
      "300_1.24_Elcodata_Rights_users.sql\n",
      "----------------------------------------------\n",
      "\n",
      "Введите искомое слово точнее:grant\n",
      "000_1-28_Create_user_grant_rights_A350.sql\n",
      "000_1-28_Create_user_grant_rights_A380.sql\n",
      "000_1-28_Create_user_grant_rights_A400M.sql\n",
      "000_1-30_Create_user_grant_rights_A350.sql\n",
      "000_1-30_Create_user_grant_rights_A380.sql\n",
      "000_1-30_Create_user_grant_rights_A400M.sql\n",
      "000_1.27_Create_user_grant_rights_A350.sql\n",
      "000_1.27_Create_user_grant_rights_A380.sql\n",
      "000_1.27_Create_user_grant_rights_A400M.sql\n",
      "000_1.28_Create_user_grant_rights_A350.sql\n",
      "000_1.28_Create_user_grant_rights_A380.sql\n",
      "000_1.28_Create_user_grant_rights_A400M.sql\n",
      "000_1.29_Create_user_grant_rights_A350.sql\n",
      "000_1.29_Create_user_grant_rights_A380.sql\n",
      "000_1.29_Create_user_grant_rights_A400M.sql\n",
      "00_1.20_Create_user_grant_rights_A350.sql\n",
      "00_1.20_Create_user_grant_rights_A380.sql\n",
      "00_1.20_Create_user_grant_rights_A400M.sql\n"
     ]
    }
   ],
   "source": [
    "import os\n",
    "\n",
    "path = os.getcwd() + '\\Migrations'\n",
    "print(path)\n",
    "os.chdir(path)\n",
    "dir_work = os.listdir(path)\n",
    "a = len(dir_work)\n",
    "\n",
    "search = input('Введите искомое слово:')\n",
    "result = []\n",
    "for i in range (0, a):\n",
    "    if dir_work[i].find(search) != -1:\n",
    "        result.append(dir_work[i])\n",
    "        print(dir_work[i])\n",
    "\n",
    "print('----------------------------------------------')\n",
    "print('')\n",
    "b = len(result)\n",
    "while True:\n",
    "    search2 = input('Введите искомое слово точнее:')\n",
    "    for i in range(0, b):\n",
    "        if result[i].find(search2) != -1:\n",
    "            print(result[i])\n",
    "        \n"
   ]
  },
  {
   "cell_type": "code",
   "execution_count": null,
   "metadata": {},
   "outputs": [],
   "source": []
  }
 ],
 "metadata": {
  "kernelspec": {
   "display_name": "Python 3",
   "language": "python",
   "name": "python3"
  },
  "language_info": {
   "codemirror_mode": {
    "name": "ipython",
    "version": 3
   },
   "file_extension": ".py",
   "mimetype": "text/x-python",
   "name": "python",
   "nbconvert_exporter": "python",
   "pygments_lexer": "ipython3",
   "version": "3.6.5"
  }
 },
 "nbformat": 4,
 "nbformat_minor": 2
}
