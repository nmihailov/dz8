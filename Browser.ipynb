{
 "cells": [
  {
   "cell_type": "code",
   "execution_count": 5,
   "metadata": {},
   "outputs": [
    {
     "name": "stdout",
     "output_type": "stream",
     "text": [
      "Ваш браузер в папке \"по умолчанию\", введите пожалуйста полный путь в формате C:\\....\\chrome.exeC:\\Program Files (x86)\\Google\\Chrome\\Application\\chrome.exe\n"
     ]
    }
   ],
   "source": [
    "import os\n",
    "try:\n",
    "    os.startfile(r'C:\\Program Files (x86)\\Google\\Chrome\\Application\\chome.exe')\n",
    "except FileNotFoundError:\n",
    "    path = input('Ваш браузер не хранится в папке \"по умолчанию\", введите пожалуйста полный путь в формате C:\\..\\chrome.exe: ')\n",
    "    os.startfile(path)\n"
   ]
  },
  {
   "cell_type": "code",
   "execution_count": null,
   "metadata": {},
   "outputs": [],
   "source": []
  }
 ],
 "metadata": {
  "kernelspec": {
   "display_name": "Python 3",
   "language": "python",
   "name": "python3"
  },
  "language_info": {
   "codemirror_mode": {
    "name": "ipython",
    "version": 3
   },
   "file_extension": ".py",
   "mimetype": "text/x-python",
   "name": "python",
   "nbconvert_exporter": "python",
   "pygments_lexer": "ipython3",
   "version": "3.6.5"
  }
 },
 "nbformat": 4,
 "nbformat_minor": 2
}
